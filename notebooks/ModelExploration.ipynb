{
 "cells": [
  {
   "cell_type": "code",
   "execution_count": 1,
   "id": "initial_id",
   "metadata": {
    "collapsed": true,
    "ExecuteTime": {
     "end_time": "2025-03-07T13:40:04.816306Z",
     "start_time": "2025-03-07T13:39:03.691219Z"
    }
   },
   "outputs": [
    {
     "data": {
      "text/plain": "Loading checkpoint shards:   0%|          | 0/2 [00:00<?, ?it/s]",
      "application/vnd.jupyter.widget-view+json": {
       "version_major": 2,
       "version_minor": 0,
       "model_id": "50c8d30e1a9a4e708014169aa90b1bd0"
      }
     },
     "metadata": {},
     "output_type": "display_data"
    }
   ],
   "source": [
    "from transformers import AutoProcessor, PaliGemmaForConditionalGeneration\n",
    "from PIL import Image\n",
    "import requests\n",
    "import PIL\n",
    "from torch import nn\n",
    "from helpers.utils import load_yaml, load_checkpoint\n",
    "from transformers import AutoModelForImageTextToText\n",
    "import torch\n",
    "from typing import Any, Dict, List, Optional, Tuple, Union\n",
    "\n",
    "data = [{'images': PIL.Image.open('../../../Databases/PULSE/mimic_v4/p1856/p18569031/s41816242/41816242-0.png').convert('RGB'),\n",
    "  'question': \"<image>\\nWhat are the main ECG features I'm seeing here?\",\n",
    "  'answer': 'Upon examining this ECG, I notice that the heart rhythm is irregularly irregular, with no discernible P waves. This is consistent with atrial fibrillation (AFib). Additionally, the ventricular response is slow, which is unusual in AFib. I also observe ventricular couplets, which are pairs of ventricular beats that are closely coupled. Furthermore, the QRS complexes exhibit a Left bundle branch block (LBBB) pattern, characterized by a prolonged QRS duration and a specific morphology. These findings are indicative of an abnormal ECG.',\n",
    "  'id': '18569031_41816242',\n",
    "  'metadata': {'subtask': 'morphology', 'type': 'open-ended'},\n",
    "  'source': 'MIMIC-IV-ECG'}]\n",
    "\n",
    "model_id = \"google/paligemma2-3b-mix-224\"\n",
    "processor = AutoProcessor.from_pretrained(model_id)\n",
    "\n",
    "class BaselineVLModel(nn.Module):\n",
    "    def __init__(self,model_pretrained_path):\n",
    "        super().__init__()\n",
    "        self.model_pretrained_path = model_pretrained_path\n",
    "        self.model_pretrained = AutoModelForImageTextToText.from_pretrained(self.model_pretrained_path, attn_implementation='eager')\n",
    "\n",
    "        ##Unshare memory weightsn\n",
    "        self.model_pretrained.language_model.lm_head.weight = torch.nn.Parameter(self.model_pretrained.language_model.lm_head.weight.clone())\n",
    "        self.model_pretrained.language_model.model.embed_tokens.weight = torch.nn.Parameter(self.model_pretrained.language_model.model.embed_tokens.weight.clone())\n",
    "    def forward(\n",
    "        self,\n",
    "        input_ids: torch.LongTensor = None,\n",
    "        attention_mask: Optional[torch.Tensor] = None,\n",
    "        position_ids: Optional[torch.LongTensor] = None,\n",
    "        past_key_values: Optional[List[torch.FloatTensor]] = None,\n",
    "        inputs_embeds: Optional[torch.FloatTensor] = None,\n",
    "        labels: Optional[torch.LongTensor] = None,\n",
    "        use_cache: Optional[bool] = None,\n",
    "        output_attentions: Optional[bool] = None,\n",
    "        output_hidden_states: Optional[bool] = None,\n",
    "        return_dict: Optional[bool] = None,\n",
    "        pixel_values: Optional[torch.Tensor] = None,\n",
    "        **kwargs\n",
    "    ):\n",
    "        output = self.model_pretrained(\n",
    "            input_ids = input_ids,\n",
    "            attention_mask = attention_mask,\n",
    "            position_ids = position_ids,\n",
    "            past_key_values = past_key_values,\n",
    "            inputs_embeds = inputs_embeds,\n",
    "            labels = labels,\n",
    "            use_cache = use_cache,\n",
    "            output_attentions = output_attentions,\n",
    "            output_hidden_states = output_hidden_states,\n",
    "            return_dict = return_dict,\n",
    "            pixel_values = pixel_values,\n",
    "            **kwargs\n",
    "        )\n",
    "        return output\n",
    "\n",
    "\n",
    "    def generate(\n",
    "        self,\n",
    "        input_ids = None,\n",
    "        max_new_tokens=50,\n",
    "        **kwargs\n",
    "    ):\n",
    "        output = self.model_pretrained.generate(\n",
    "            input_ids = input_ids,\n",
    "            max_new_tokens = max_new_tokens,\n",
    "            **kwargs\n",
    "        )\n",
    "        return output[:,input_ids.shape[1]:]\n",
    "\n",
    "model = BaselineVLModel(model_id)\n",
    "model = model.to(\"cuda\")\n",
    "inputs = processor(\n",
    "            [item['images'] for item in data],\n",
    "            [f\"Question: {item['question']} Answer: \" for item in data],\n",
    "            truncation=True,\n",
    "            padding=True,\n",
    "            max_length=512, \n",
    "            return_tensors=\"pt\"\n",
    "        ).to(\"cuda\")\n",
    "output = model.generate(**inputs)\n",
    "\n"
   ]
  },
  {
   "cell_type": "code",
   "outputs": [
    {
     "data": {
      "text/plain": "['P-QRS complexes<eos>']"
     },
     "execution_count": 3,
     "metadata": {},
     "output_type": "execute_result"
    }
   ],
   "source": [
    "processor.tokenizer.batch_decode(output)"
   ],
   "metadata": {
    "collapsed": false,
    "ExecuteTime": {
     "end_time": "2025-03-07T13:53:29.188201Z",
     "start_time": "2025-03-07T13:53:29.146243Z"
    }
   },
   "id": "2f6f3f150b9155be",
   "execution_count": 3
  },
  {
   "cell_type": "code",
   "outputs": [],
   "source": [],
   "metadata": {
    "collapsed": false
   },
   "id": "25c4fab69e89fba1"
  }
 ],
 "metadata": {
  "kernelspec": {
   "name": "docllm",
   "language": "python",
   "display_name": "Python (DocLLM)"
  },
  "language_info": {
   "codemirror_mode": {
    "name": "ipython",
    "version": 2
   },
   "file_extension": ".py",
   "mimetype": "text/x-python",
   "name": "python",
   "nbconvert_exporter": "python",
   "pygments_lexer": "ipython2",
   "version": "2.7.6"
  }
 },
 "nbformat": 4,
 "nbformat_minor": 5
}
