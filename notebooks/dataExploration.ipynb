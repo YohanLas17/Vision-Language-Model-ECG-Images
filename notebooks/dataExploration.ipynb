{
 "cells": [
  {
   "cell_type": "code",
   "execution_count": 1,
   "id": "initial_id",
   "metadata": {
    "collapsed": true,
    "ExecuteTime": {
     "end_time": "2025-03-09T14:52:43.222719Z",
     "start_time": "2025-03-09T14:52:42.287388Z"
    }
   },
   "outputs": [
    {
     "name": "stdout",
     "output_type": "stream",
     "text": [
      "dataExploration.ipynb   model_exploration.ipynb  ModelExplorationSmolVLM.ipynb\r\n",
      "ExplorationModle.ipynb  ModelExploration.ipynb\r\n"
     ]
    }
   ],
   "source": [
    "ls"
   ]
  },
  {
   "cell_type": "code",
   "outputs": [],
   "source": [
    "data_path = '/oriondata/AIMLab/JonathanF/JonathanFNewFolder/Databases/PULSE'"
   ],
   "metadata": {
    "collapsed": false,
    "ExecuteTime": {
     "end_time": "2025-03-09T14:52:43.227752Z",
     "start_time": "2025-03-09T14:52:43.222615Z"
    }
   },
   "id": "4fe0d09ec1622084",
   "execution_count": 2
  },
  {
   "cell_type": "code",
   "outputs": [],
   "source": [
    "import pathlib"
   ],
   "metadata": {
    "collapsed": false,
    "ExecuteTime": {
     "end_time": "2025-03-09T14:52:43.232054Z",
     "start_time": "2025-03-09T14:52:43.227668Z"
    }
   },
   "id": "17a7838983f4cc2a",
   "execution_count": 3
  },
  {
   "cell_type": "code",
   "outputs": [
    {
     "data": {
      "text/plain": "[PosixPath('/oriondata/AIMLab/JonathanF/JonathanFNewFolder/Databases/PULSE/data.json'),\n PosixPath('/oriondata/AIMLab/JonathanF/JonathanFNewFolder/Databases/PULSE/csn_part_noise_layout_papersize'),\n PosixPath('/oriondata/AIMLab/JonathanF/JonathanFNewFolder/Databases/PULSE/csn_aug_all_layout_papersize'),\n PosixPath('/oriondata/AIMLab/JonathanF/JonathanFNewFolder/Databases/PULSE/mimic_v4'),\n PosixPath('/oriondata/AIMLab/JonathanF/JonathanFNewFolder/Databases/PULSE/mimic'),\n PosixPath('/oriondata/AIMLab/JonathanF/JonathanFNewFolder/Databases/PULSE/csn_ori_layout_papersize'),\n PosixPath('/oriondata/AIMLab/JonathanF/JonathanFNewFolder/Databases/PULSE/code15_v4'),\n PosixPath('/oriondata/AIMLab/JonathanF/JonathanFNewFolder/Databases/PULSE/ptb-xl')]"
     },
     "execution_count": 4,
     "metadata": {},
     "output_type": "execute_result"
    }
   ],
   "source": [
    "list(pathlib.Path(data_path).glob(\"*\"))"
   ],
   "metadata": {
    "collapsed": false,
    "ExecuteTime": {
     "end_time": "2025-03-09T14:52:43.238017Z",
     "start_time": "2025-03-09T14:52:43.230810Z"
    }
   },
   "id": "e3084e9287519feb",
   "execution_count": 4
  },
  {
   "cell_type": "code",
   "outputs": [],
   "source": [
    "import json\n",
    "# Open the JSON file and load it into a Python dictionary\n",
    "with open(data_path + '/data.json', 'r') as file:\n",
    "    data = json.load(file)"
   ],
   "metadata": {
    "collapsed": false,
    "ExecuteTime": {
     "end_time": "2025-03-09T14:52:52.973540Z",
     "start_time": "2025-03-09T14:52:43.243094Z"
    }
   },
   "id": "db01d933eea44d10",
   "execution_count": 5
  },
  {
   "cell_type": "code",
   "outputs": [],
   "source": [
    "item = data[10]"
   ],
   "metadata": {
    "collapsed": false,
    "ExecuteTime": {
     "end_time": "2025-03-09T14:52:56.023038Z",
     "start_time": "2025-03-09T14:52:56.019833Z"
    }
   },
   "id": "73e683812fbbcdb2",
   "execution_count": 12
  },
  {
   "cell_type": "code",
   "outputs": [
    {
     "data": {
      "text/plain": "{'id': 'mimic-46842511',\n 'image': 'mimic/p1127/p11278050/s46842511/46842511-0.png',\n 'conversations': [{'from': 'human',\n   'value': '<image>\\nWhat is the axis of the QRS complex in this ECG?\\nA. Normal axis\\nB. Right axis deviation\\nC. Left axis deviation\\nD. Indeterminate axis'},\n  {'from': 'gpt',\n   'value': 'The ECG shows a left axis deviation, which is characterized by a predominantly negative QRS complex in lead I and a positive QRS complex in lead II. This indicates that the electrical axis of the heart is deviated to the left, away from the normal axis.\\n\\nThe correct option is C. Left axis deviation'}],\n 'metadata': {'subtask': 'feature', 'type': 'multiple-choice'},\n 'source': 'MIMIC-IV-ECG'}"
     },
     "execution_count": 13,
     "metadata": {},
     "output_type": "execute_result"
    }
   ],
   "source": [
    "item"
   ],
   "metadata": {
    "collapsed": false,
    "ExecuteTime": {
     "end_time": "2025-03-09T14:52:56.457063Z",
     "start_time": "2025-03-09T14:52:56.454504Z"
    }
   },
   "id": "1856ba7922bd961f",
   "execution_count": 13
  },
  {
   "cell_type": "code",
   "outputs": [
    {
     "data": {
      "text/plain": "'mimic-46842511'"
     },
     "execution_count": 14,
     "metadata": {},
     "output_type": "execute_result"
    }
   ],
   "source": [
    "item['id']"
   ],
   "metadata": {
    "collapsed": false,
    "ExecuteTime": {
     "end_time": "2025-03-09T14:52:59.128574Z",
     "start_time": "2025-03-09T14:52:59.122254Z"
    }
   },
   "id": "35819e23835bcb8",
   "execution_count": 14
  },
  {
   "cell_type": "code",
   "outputs": [
    {
     "data": {
      "text/plain": "'mimic/p1127/p11278050/s46842511/46842511-0.png'"
     },
     "execution_count": 15,
     "metadata": {},
     "output_type": "execute_result"
    }
   ],
   "source": [
    "item['image']\n"
   ],
   "metadata": {
    "collapsed": false,
    "ExecuteTime": {
     "end_time": "2025-03-09T14:52:59.423378Z",
     "start_time": "2025-03-09T14:52:59.418642Z"
    }
   },
   "id": "41447bbca8ca60d7",
   "execution_count": 15
  },
  {
   "cell_type": "code",
   "outputs": [
    {
     "data": {
      "text/plain": "'<image>\\nWhat is the axis of the QRS complex in this ECG?\\nA. Normal axis\\nB. Right axis deviation\\nC. Left axis deviation\\nD. Indeterminate axis'"
     },
     "execution_count": 16,
     "metadata": {},
     "output_type": "execute_result"
    }
   ],
   "source": [
    "item['conversations'][0]['value']\n"
   ],
   "metadata": {
    "collapsed": false,
    "ExecuteTime": {
     "end_time": "2025-03-09T14:52:59.687769Z",
     "start_time": "2025-03-09T14:52:59.682704Z"
    }
   },
   "id": "38ae5788f3579b63",
   "execution_count": 16
  },
  {
   "cell_type": "code",
   "outputs": [
    {
     "data": {
      "text/plain": "{'from': 'gpt',\n 'value': 'The ECG shows a left axis deviation, which is characterized by a predominantly negative QRS complex in lead I and a positive QRS complex in lead II. This indicates that the electrical axis of the heart is deviated to the left, away from the normal axis.\\n\\nThe correct option is C. Left axis deviation'}"
     },
     "execution_count": 17,
     "metadata": {},
     "output_type": "execute_result"
    }
   ],
   "source": [
    "item['conversations'][1]\n"
   ],
   "metadata": {
    "collapsed": false,
    "ExecuteTime": {
     "end_time": "2025-03-09T14:53:00.540684Z",
     "start_time": "2025-03-09T14:53:00.537302Z"
    }
   },
   "id": "f0b107b05659ac57",
   "execution_count": 17
  },
  {
   "cell_type": "markdown",
   "source": [],
   "metadata": {
    "collapsed": false
   },
   "id": "94c62370668f319e"
  },
  {
   "cell_type": "code",
   "outputs": [
    {
     "data": {
      "text/plain": "{'subtask': 'morphology', 'type': 'close-ended'}"
     },
     "execution_count": 27,
     "metadata": {},
     "output_type": "execute_result"
    }
   ],
   "source": [
    "item['metadata'] "
   ],
   "metadata": {
    "collapsed": false,
    "ExecuteTime": {
     "end_time": "2025-03-06T12:45:51.294912Z",
     "start_time": "2025-03-06T12:45:51.290128Z"
    }
   },
   "id": "d837c4e05c716a28",
   "execution_count": 27
  },
  {
   "cell_type": "code",
   "outputs": [
    {
     "data": {
      "text/plain": "'ECG-QA'"
     },
     "execution_count": 28,
     "metadata": {},
     "output_type": "execute_result"
    }
   ],
   "source": [
    "item['source']"
   ],
   "metadata": {
    "collapsed": false,
    "ExecuteTime": {
     "end_time": "2025-03-06T12:46:02.159774Z",
     "start_time": "2025-03-06T12:46:02.156875Z"
    }
   },
   "id": "58b98399e3c76243",
   "execution_count": 28
  },
  {
   "cell_type": "code",
   "outputs": [],
   "source": [],
   "metadata": {
    "collapsed": false
   },
   "id": "97c7ecedf3e5fb60"
  }
 ],
 "metadata": {
  "kernelspec": {
   "display_name": "Python 3",
   "language": "python",
   "name": "python3"
  },
  "language_info": {
   "codemirror_mode": {
    "name": "ipython",
    "version": 2
   },
   "file_extension": ".py",
   "mimetype": "text/x-python",
   "name": "python",
   "nbconvert_exporter": "python",
   "pygments_lexer": "ipython2",
   "version": "2.7.6"
  }
 },
 "nbformat": 4,
 "nbformat_minor": 5
}
